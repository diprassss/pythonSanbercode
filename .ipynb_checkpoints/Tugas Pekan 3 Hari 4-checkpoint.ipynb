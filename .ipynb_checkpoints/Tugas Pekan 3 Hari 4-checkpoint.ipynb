{
 "cells": [
  {
   "cell_type": "markdown",
   "metadata": {
    "id": "-l4VWD-3H8gf"
   },
   "source": [
    "Downoad  <a href=\"https://blog.sanbercode.com/wp-content/uploads/2020/05/vgsales.csv\">vgsales.csv</a>"
   ]
  },
  {
   "cell_type": "code",
   "execution_count": 16,
   "metadata": {
    "id": "9Ai0_dj_H4uz"
   },
   "outputs": [
    {
     "data": {
      "text/html": [
       "<div>\n",
       "<style scoped>\n",
       "    .dataframe tbody tr th:only-of-type {\n",
       "        vertical-align: middle;\n",
       "    }\n",
       "\n",
       "    .dataframe tbody tr th {\n",
       "        vertical-align: top;\n",
       "    }\n",
       "\n",
       "    .dataframe thead th {\n",
       "        text-align: right;\n",
       "    }\n",
       "</style>\n",
       "<table border=\"1\" class=\"dataframe\">\n",
       "  <thead>\n",
       "    <tr style=\"text-align: right;\">\n",
       "      <th></th>\n",
       "      <th>Rank</th>\n",
       "      <th>Name</th>\n",
       "      <th>Platform</th>\n",
       "      <th>Year</th>\n",
       "      <th>Genre</th>\n",
       "      <th>Publisher</th>\n",
       "      <th>NA_Sales</th>\n",
       "      <th>EU_Sales</th>\n",
       "      <th>JP_Sales</th>\n",
       "      <th>Other_Sales</th>\n",
       "      <th>Global_Sales</th>\n",
       "    </tr>\n",
       "  </thead>\n",
       "  <tbody>\n",
       "    <tr>\n",
       "      <th>0</th>\n",
       "      <td>1</td>\n",
       "      <td>Wii Sports</td>\n",
       "      <td>Wii</td>\n",
       "      <td>2006.0</td>\n",
       "      <td>Sports</td>\n",
       "      <td>Nintendo</td>\n",
       "      <td>41.49</td>\n",
       "      <td>29.02</td>\n",
       "      <td>3.77</td>\n",
       "      <td>8.46</td>\n",
       "      <td>82.74</td>\n",
       "    </tr>\n",
       "    <tr>\n",
       "      <th>1</th>\n",
       "      <td>2</td>\n",
       "      <td>Super Mario Bros.</td>\n",
       "      <td>NES</td>\n",
       "      <td>1985.0</td>\n",
       "      <td>Platform</td>\n",
       "      <td>Nintendo</td>\n",
       "      <td>29.08</td>\n",
       "      <td>3.58</td>\n",
       "      <td>6.81</td>\n",
       "      <td>0.77</td>\n",
       "      <td>40.24</td>\n",
       "    </tr>\n",
       "    <tr>\n",
       "      <th>2</th>\n",
       "      <td>3</td>\n",
       "      <td>Mario Kart Wii</td>\n",
       "      <td>Wii</td>\n",
       "      <td>2008.0</td>\n",
       "      <td>Racing</td>\n",
       "      <td>Nintendo</td>\n",
       "      <td>15.85</td>\n",
       "      <td>12.88</td>\n",
       "      <td>3.79</td>\n",
       "      <td>3.31</td>\n",
       "      <td>35.82</td>\n",
       "    </tr>\n",
       "    <tr>\n",
       "      <th>3</th>\n",
       "      <td>4</td>\n",
       "      <td>Wii Sports Resort</td>\n",
       "      <td>Wii</td>\n",
       "      <td>2009.0</td>\n",
       "      <td>Sports</td>\n",
       "      <td>Nintendo</td>\n",
       "      <td>15.75</td>\n",
       "      <td>11.01</td>\n",
       "      <td>3.28</td>\n",
       "      <td>2.96</td>\n",
       "      <td>33.00</td>\n",
       "    </tr>\n",
       "    <tr>\n",
       "      <th>4</th>\n",
       "      <td>5</td>\n",
       "      <td>Pokemon Red/Pokemon Blue</td>\n",
       "      <td>GB</td>\n",
       "      <td>1996.0</td>\n",
       "      <td>Role-Playing</td>\n",
       "      <td>Nintendo</td>\n",
       "      <td>11.27</td>\n",
       "      <td>8.89</td>\n",
       "      <td>10.22</td>\n",
       "      <td>1.00</td>\n",
       "      <td>31.37</td>\n",
       "    </tr>\n",
       "  </tbody>\n",
       "</table>\n",
       "</div>"
      ],
      "text/plain": [
       "   Rank                      Name Platform    Year         Genre Publisher  \\\n",
       "0     1                Wii Sports      Wii  2006.0        Sports  Nintendo   \n",
       "1     2         Super Mario Bros.      NES  1985.0      Platform  Nintendo   \n",
       "2     3            Mario Kart Wii      Wii  2008.0        Racing  Nintendo   \n",
       "3     4         Wii Sports Resort      Wii  2009.0        Sports  Nintendo   \n",
       "4     5  Pokemon Red/Pokemon Blue       GB  1996.0  Role-Playing  Nintendo   \n",
       "\n",
       "   NA_Sales  EU_Sales  JP_Sales  Other_Sales  Global_Sales  \n",
       "0     41.49     29.02      3.77         8.46         82.74  \n",
       "1     29.08      3.58      6.81         0.77         40.24  \n",
       "2     15.85     12.88      3.79         3.31         35.82  \n",
       "3     15.75     11.01      3.28         2.96         33.00  \n",
       "4     11.27      8.89     10.22         1.00         31.37  "
      ]
     },
     "execution_count": 16,
     "metadata": {},
     "output_type": "execute_result"
    }
   ],
   "source": [
    "import pandas as pd\n",
    "import matplotlib.pyplot as plt\n",
    "import numpy as np\n",
    "\n",
    "df = pd.read_csv('vgsales.csv')\n",
    "df.head()"
   ]
  },
  {
   "cell_type": "markdown",
   "metadata": {
    "id": "k7HkS3vbIHi2"
   },
   "source": [
    "<h2>Soal 1: Preparing Data</h2>\n",
    "\n",
    "Manipulasi data tersebut dengan menggroupkan berdasarkan Genre, kemudian ambil rata2 penjualan untuk setiap Region Kecuali Global_Sales berdasarkan kategori Genre."
   ]
  },
  {
   "cell_type": "code",
   "execution_count": 17,
   "metadata": {
    "id": "qNB-rPxfIDHf"
   },
   "outputs": [
    {
     "data": {
      "text/html": [
       "<div>\n",
       "<style scoped>\n",
       "    .dataframe tbody tr th:only-of-type {\n",
       "        vertical-align: middle;\n",
       "    }\n",
       "\n",
       "    .dataframe tbody tr th {\n",
       "        vertical-align: top;\n",
       "    }\n",
       "\n",
       "    .dataframe thead th {\n",
       "        text-align: right;\n",
       "    }\n",
       "</style>\n",
       "<table border=\"1\" class=\"dataframe\">\n",
       "  <thead>\n",
       "    <tr style=\"text-align: right;\">\n",
       "      <th></th>\n",
       "      <th>NA_Sales</th>\n",
       "      <th>EU_Sales</th>\n",
       "      <th>JP_Sales</th>\n",
       "      <th>Other_Sales</th>\n",
       "    </tr>\n",
       "    <tr>\n",
       "      <th>Genre</th>\n",
       "      <th></th>\n",
       "      <th></th>\n",
       "      <th></th>\n",
       "      <th></th>\n",
       "    </tr>\n",
       "  </thead>\n",
       "  <tbody>\n",
       "    <tr>\n",
       "      <th>Action</th>\n",
       "      <td>0.264726</td>\n",
       "      <td>0.158323</td>\n",
       "      <td>0.048236</td>\n",
       "      <td>0.056508</td>\n",
       "    </tr>\n",
       "    <tr>\n",
       "      <th>Adventure</th>\n",
       "      <td>0.082271</td>\n",
       "      <td>0.049868</td>\n",
       "      <td>0.040490</td>\n",
       "      <td>0.013072</td>\n",
       "    </tr>\n",
       "    <tr>\n",
       "      <th>Fighting</th>\n",
       "      <td>0.263667</td>\n",
       "      <td>0.119481</td>\n",
       "      <td>0.103007</td>\n",
       "      <td>0.043255</td>\n",
       "    </tr>\n",
       "    <tr>\n",
       "      <th>Misc</th>\n",
       "      <td>0.235906</td>\n",
       "      <td>0.124198</td>\n",
       "      <td>0.061967</td>\n",
       "      <td>0.043312</td>\n",
       "    </tr>\n",
       "    <tr>\n",
       "      <th>Platform</th>\n",
       "      <td>0.504571</td>\n",
       "      <td>0.227573</td>\n",
       "      <td>0.147596</td>\n",
       "      <td>0.058228</td>\n",
       "    </tr>\n",
       "    <tr>\n",
       "      <th>Puzzle</th>\n",
       "      <td>0.212680</td>\n",
       "      <td>0.087251</td>\n",
       "      <td>0.098471</td>\n",
       "      <td>0.021564</td>\n",
       "    </tr>\n",
       "    <tr>\n",
       "      <th>Racing</th>\n",
       "      <td>0.287766</td>\n",
       "      <td>0.190865</td>\n",
       "      <td>0.045388</td>\n",
       "      <td>0.061865</td>\n",
       "    </tr>\n",
       "    <tr>\n",
       "      <th>Role-Playing</th>\n",
       "      <td>0.219946</td>\n",
       "      <td>0.126384</td>\n",
       "      <td>0.236767</td>\n",
       "      <td>0.040060</td>\n",
       "    </tr>\n",
       "    <tr>\n",
       "      <th>Shooter</th>\n",
       "      <td>0.444733</td>\n",
       "      <td>0.239137</td>\n",
       "      <td>0.029221</td>\n",
       "      <td>0.078389</td>\n",
       "    </tr>\n",
       "    <tr>\n",
       "      <th>Simulation</th>\n",
       "      <td>0.211430</td>\n",
       "      <td>0.130773</td>\n",
       "      <td>0.073472</td>\n",
       "      <td>0.036355</td>\n",
       "    </tr>\n",
       "    <tr>\n",
       "      <th>Sports</th>\n",
       "      <td>0.291283</td>\n",
       "      <td>0.160635</td>\n",
       "      <td>0.057702</td>\n",
       "      <td>0.057532</td>\n",
       "    </tr>\n",
       "    <tr>\n",
       "      <th>Strategy</th>\n",
       "      <td>0.100881</td>\n",
       "      <td>0.066579</td>\n",
       "      <td>0.072628</td>\n",
       "      <td>0.016681</td>\n",
       "    </tr>\n",
       "  </tbody>\n",
       "</table>\n",
       "</div>"
      ],
      "text/plain": [
       "              NA_Sales  EU_Sales  JP_Sales  Other_Sales\n",
       "Genre                                                  \n",
       "Action        0.264726  0.158323  0.048236     0.056508\n",
       "Adventure     0.082271  0.049868  0.040490     0.013072\n",
       "Fighting      0.263667  0.119481  0.103007     0.043255\n",
       "Misc          0.235906  0.124198  0.061967     0.043312\n",
       "Platform      0.504571  0.227573  0.147596     0.058228\n",
       "Puzzle        0.212680  0.087251  0.098471     0.021564\n",
       "Racing        0.287766  0.190865  0.045388     0.061865\n",
       "Role-Playing  0.219946  0.126384  0.236767     0.040060\n",
       "Shooter       0.444733  0.239137  0.029221     0.078389\n",
       "Simulation    0.211430  0.130773  0.073472     0.036355\n",
       "Sports        0.291283  0.160635  0.057702     0.057532\n",
       "Strategy      0.100881  0.066579  0.072628     0.016681"
      ]
     },
     "execution_count": 17,
     "metadata": {},
     "output_type": "execute_result"
    }
   ],
   "source": [
    "#code here\n",
    "group = df.groupby('Genre')[['NA_Sales','EU_Sales','JP_Sales','Other_Sales']].mean()\n",
    "group"
   ]
  },
  {
   "cell_type": "markdown",
   "metadata": {
    "id": "SGww4HDIIQ_w"
   },
   "source": [
    "Expected Output:\n",
    "\n",
    "![alt text](https://drive.google.com/uc?id=1dR4vthSt22gM_LdfSBZCMIKPL6xd7nVl)"
   ]
  },
  {
   "cell_type": "markdown",
   "metadata": {
    "id": "KW8ZbhuxIkFp"
   },
   "source": [
    "---"
   ]
  },
  {
   "cell_type": "markdown",
   "metadata": {
    "id": "bTBB4n1uIW3h"
   },
   "source": [
    "<h2>Soal 2: Perbandingan Kuantitatif Barplot - Grouping Visualisasi Dengan Barplot</h2>\n",
    "\n",
    "1. Visualisasikan gambar yang tadi kita manipulasi, untuk menghasilkan visualisasi seperti di bawah ini\n",
    "2. Tuliskan apa insight yang bisa kamu dapat dari visualisasi tersebut"
   ]
  },
  {
   "cell_type": "code",
   "execution_count": 18,
   "metadata": {},
   "outputs": [
    {
     "data": {
      "text/html": [
       "<div>\n",
       "<style scoped>\n",
       "    .dataframe tbody tr th:only-of-type {\n",
       "        vertical-align: middle;\n",
       "    }\n",
       "\n",
       "    .dataframe tbody tr th {\n",
       "        vertical-align: top;\n",
       "    }\n",
       "\n",
       "    .dataframe thead th {\n",
       "        text-align: right;\n",
       "    }\n",
       "</style>\n",
       "<table border=\"1\" class=\"dataframe\">\n",
       "  <thead>\n",
       "    <tr style=\"text-align: right;\">\n",
       "      <th>Genre</th>\n",
       "      <th>Action</th>\n",
       "      <th>Adventure</th>\n",
       "      <th>Fighting</th>\n",
       "      <th>Misc</th>\n",
       "      <th>Platform</th>\n",
       "      <th>Puzzle</th>\n",
       "      <th>Racing</th>\n",
       "      <th>Role-Playing</th>\n",
       "      <th>Shooter</th>\n",
       "      <th>Simulation</th>\n",
       "      <th>Sports</th>\n",
       "      <th>Strategy</th>\n",
       "    </tr>\n",
       "  </thead>\n",
       "  <tbody>\n",
       "    <tr>\n",
       "      <th>NA_Sales</th>\n",
       "      <td>0.264726</td>\n",
       "      <td>0.082271</td>\n",
       "      <td>0.263667</td>\n",
       "      <td>0.235906</td>\n",
       "      <td>0.504571</td>\n",
       "      <td>0.212680</td>\n",
       "      <td>0.287766</td>\n",
       "      <td>0.219946</td>\n",
       "      <td>0.444733</td>\n",
       "      <td>0.211430</td>\n",
       "      <td>0.291283</td>\n",
       "      <td>0.100881</td>\n",
       "    </tr>\n",
       "    <tr>\n",
       "      <th>EU_Sales</th>\n",
       "      <td>0.158323</td>\n",
       "      <td>0.049868</td>\n",
       "      <td>0.119481</td>\n",
       "      <td>0.124198</td>\n",
       "      <td>0.227573</td>\n",
       "      <td>0.087251</td>\n",
       "      <td>0.190865</td>\n",
       "      <td>0.126384</td>\n",
       "      <td>0.239137</td>\n",
       "      <td>0.130773</td>\n",
       "      <td>0.160635</td>\n",
       "      <td>0.066579</td>\n",
       "    </tr>\n",
       "    <tr>\n",
       "      <th>JP_Sales</th>\n",
       "      <td>0.048236</td>\n",
       "      <td>0.040490</td>\n",
       "      <td>0.103007</td>\n",
       "      <td>0.061967</td>\n",
       "      <td>0.147596</td>\n",
       "      <td>0.098471</td>\n",
       "      <td>0.045388</td>\n",
       "      <td>0.236767</td>\n",
       "      <td>0.029221</td>\n",
       "      <td>0.073472</td>\n",
       "      <td>0.057702</td>\n",
       "      <td>0.072628</td>\n",
       "    </tr>\n",
       "    <tr>\n",
       "      <th>Other_Sales</th>\n",
       "      <td>0.056508</td>\n",
       "      <td>0.013072</td>\n",
       "      <td>0.043255</td>\n",
       "      <td>0.043312</td>\n",
       "      <td>0.058228</td>\n",
       "      <td>0.021564</td>\n",
       "      <td>0.061865</td>\n",
       "      <td>0.040060</td>\n",
       "      <td>0.078389</td>\n",
       "      <td>0.036355</td>\n",
       "      <td>0.057532</td>\n",
       "      <td>0.016681</td>\n",
       "    </tr>\n",
       "  </tbody>\n",
       "</table>\n",
       "</div>"
      ],
      "text/plain": [
       "Genre          Action  Adventure  Fighting      Misc  Platform    Puzzle  \\\n",
       "NA_Sales     0.264726   0.082271  0.263667  0.235906  0.504571  0.212680   \n",
       "EU_Sales     0.158323   0.049868  0.119481  0.124198  0.227573  0.087251   \n",
       "JP_Sales     0.048236   0.040490  0.103007  0.061967  0.147596  0.098471   \n",
       "Other_Sales  0.056508   0.013072  0.043255  0.043312  0.058228  0.021564   \n",
       "\n",
       "Genre          Racing  Role-Playing   Shooter  Simulation    Sports  Strategy  \n",
       "NA_Sales     0.287766      0.219946  0.444733    0.211430  0.291283  0.100881  \n",
       "EU_Sales     0.190865      0.126384  0.239137    0.130773  0.160635  0.066579  \n",
       "JP_Sales     0.045388      0.236767  0.029221    0.073472  0.057702  0.072628  \n",
       "Other_Sales  0.061865      0.040060  0.078389    0.036355  0.057532  0.016681  "
      ]
     },
     "execution_count": 18,
     "metadata": {},
     "output_type": "execute_result"
    }
   ],
   "source": [
    "group_trans = group.transpose()\n",
    "group_trans"
   ]
  },
  {
   "cell_type": "code",
   "execution_count": 87,
   "metadata": {
    "id": "EhSDL668IR6S"
   },
   "outputs": [
    {
     "data": {
      "image/png": "[encoded data removed]",
      "text/plain": [
       "<Figure size 1008x720 with 1 Axes>"
      ]
     },
     "metadata": {},
     "output_type": "display_data"
    }
   ],
   "source": [
    "fig,ax = plt.subplots(figsize=(14,10))\n",
    "\n",
    "x = np.arange(4)\n",
    "width = 0.06\n",
    "colors = ['red','blue','purple','grey','yellow','green','pink','red','blue','purple','grey','yellow']\n",
    "\n",
    "for i,j in enumerate(group_trans.columns):\n",
    "    ax.bar(x+(width*i), group_trans[j], width=width, label=j, color=colors[i])\n",
    "    \n",
    "plt.title('Mean Sales Video Games By Genre')\n",
    "plt.xlabel('Region Sales')\n",
    "plt.ylabel('Mean Sales')\n",
    "plt.legend(loc=1)\n",
    "plt.style.use('seaborn')\n",
    "plt.xticks(x+0.3, labels=group_trans.index)\n",
    "plt.show()"
   ]
  },
  {
   "cell_type": "markdown",
   "metadata": {
    "id": "Vtds9OQHI2mG"
   },
   "source": [
    "Jawab:\n",
    "bisa dilihat bahwa rata rata paling tinggi ada di bagian NA_sales dengan genre platform\n",
    "dan yang terendah ada di bagian Other_sales dengan genre adventure"
   ]
  },
  {
   "cell_type": "markdown",
   "metadata": {
    "id": "QYj6zWvJIh2x"
   },
   "source": [
    "Expected Output:\n",
    "\n",
    "![alt text](https://drive.google.com/uc?id=1A2s9Uy2i471VEYIZqMoVUIlZnVOUc8ha)"
   ]
  },
  {
   "cell_type": "markdown",
   "metadata": {
    "id": "_EZcVmKuImY3"
   },
   "source": [
    "---"
   ]
  },
  {
   "cell_type": "markdown",
   "metadata": {
    "id": "S40muXAkIrzu"
   },
   "source": [
    "<h2>Soal 3: Perbandingan Kuantitatif Barplot - Stack Barplot</h2>\n",
    "\n",
    "1. Visualisasikan gambar yang tadi kita manipulasi, untuk menhasilkan visualisasi seperti di bawah ini\n",
    "2. Tuliskan apa insight yang bisa kamu dapat dari visualisasi tersebut"
   ]
  },
  {
   "cell_type": "code",
   "execution_count": 119,
   "metadata": {},
   "outputs": [
    {
     "data": {
      "text/html": [
       "<div>\n",
       "<style scoped>\n",
       "    .dataframe tbody tr th:only-of-type {\n",
       "        vertical-align: middle;\n",
       "    }\n",
       "\n",
       "    .dataframe tbody tr th {\n",
       "        vertical-align: top;\n",
       "    }\n",
       "\n",
       "    .dataframe thead th {\n",
       "        text-align: right;\n",
       "    }\n",
       "</style>\n",
       "<table border=\"1\" class=\"dataframe\">\n",
       "  <thead>\n",
       "    <tr style=\"text-align: right;\">\n",
       "      <th>Genre</th>\n",
       "      <th>Action</th>\n",
       "      <th>Adventure</th>\n",
       "      <th>Fighting</th>\n",
       "      <th>Misc</th>\n",
       "      <th>Platform</th>\n",
       "      <th>Puzzle</th>\n",
       "      <th>Racing</th>\n",
       "      <th>Role-Playing</th>\n",
       "      <th>Shooter</th>\n",
       "      <th>Simulation</th>\n",
       "      <th>Sports</th>\n",
       "      <th>Strategy</th>\n",
       "    </tr>\n",
       "  </thead>\n",
       "  <tbody>\n",
       "    <tr>\n",
       "      <th>NA_Sales</th>\n",
       "      <td>0.264726</td>\n",
       "      <td>0.082271</td>\n",
       "      <td>0.263667</td>\n",
       "      <td>0.235906</td>\n",
       "      <td>0.504571</td>\n",
       "      <td>0.212680</td>\n",
       "      <td>0.287766</td>\n",
       "      <td>0.219946</td>\n",
       "      <td>0.444733</td>\n",
       "      <td>0.211430</td>\n",
       "      <td>0.291283</td>\n",
       "      <td>0.100881</td>\n",
       "    </tr>\n",
       "    <tr>\n",
       "      <th>EU_Sales</th>\n",
       "      <td>0.158323</td>\n",
       "      <td>0.049868</td>\n",
       "      <td>0.119481</td>\n",
       "      <td>0.124198</td>\n",
       "      <td>0.227573</td>\n",
       "      <td>0.087251</td>\n",
       "      <td>0.190865</td>\n",
       "      <td>0.126384</td>\n",
       "      <td>0.239137</td>\n",
       "      <td>0.130773</td>\n",
       "      <td>0.160635</td>\n",
       "      <td>0.066579</td>\n",
       "    </tr>\n",
       "    <tr>\n",
       "      <th>JP_Sales</th>\n",
       "      <td>0.048236</td>\n",
       "      <td>0.040490</td>\n",
       "      <td>0.103007</td>\n",
       "      <td>0.061967</td>\n",
       "      <td>0.147596</td>\n",
       "      <td>0.098471</td>\n",
       "      <td>0.045388</td>\n",
       "      <td>0.236767</td>\n",
       "      <td>0.029221</td>\n",
       "      <td>0.073472</td>\n",
       "      <td>0.057702</td>\n",
       "      <td>0.072628</td>\n",
       "    </tr>\n",
       "    <tr>\n",
       "      <th>Other_Sales</th>\n",
       "      <td>0.056508</td>\n",
       "      <td>0.013072</td>\n",
       "      <td>0.043255</td>\n",
       "      <td>0.043312</td>\n",
       "      <td>0.058228</td>\n",
       "      <td>0.021564</td>\n",
       "      <td>0.061865</td>\n",
       "      <td>0.040060</td>\n",
       "      <td>0.078389</td>\n",
       "      <td>0.036355</td>\n",
       "      <td>0.057532</td>\n",
       "      <td>0.016681</td>\n",
       "    </tr>\n",
       "  </tbody>\n",
       "</table>\n",
       "</div>"
      ],
      "text/plain": [
       "Genre          Action  Adventure  Fighting      Misc  Platform    Puzzle  \\\n",
       "NA_Sales     0.264726   0.082271  0.263667  0.235906  0.504571  0.212680   \n",
       "EU_Sales     0.158323   0.049868  0.119481  0.124198  0.227573  0.087251   \n",
       "JP_Sales     0.048236   0.040490  0.103007  0.061967  0.147596  0.098471   \n",
       "Other_Sales  0.056508   0.013072  0.043255  0.043312  0.058228  0.021564   \n",
       "\n",
       "Genre          Racing  Role-Playing   Shooter  Simulation    Sports  Strategy  \n",
       "NA_Sales     0.287766      0.219946  0.444733    0.211430  0.291283  0.100881  \n",
       "EU_Sales     0.190865      0.126384  0.239137    0.130773  0.160635  0.066579  \n",
       "JP_Sales     0.045388      0.236767  0.029221    0.073472  0.057702  0.072628  \n",
       "Other_Sales  0.061865      0.040060  0.078389    0.036355  0.057532  0.016681  "
      ]
     },
     "execution_count": 119,
     "metadata": {},
     "output_type": "execute_result"
    }
   ],
   "source": [
    "group_trans = group.transpose()\n",
    "group_trans"
   ]
  },
  {
   "cell_type": "code",
   "execution_count": 130,
   "metadata": {
    "id": "ghjkVRCHIgTc"
   },
   "outputs": [
    {
     "data": {
      "image/png": "[encoded data removed]",
      "text/plain": [
       "<Figure size 1008x720 with 1 Axes>"
      ]
     },
     "metadata": {},
     "output_type": "display_data"
    }
   ],
   "source": [
    "fig,ax = plt.subplots(figsize=(14,10))\n",
    "\n",
    "ax.bar(group_trans.index, group_trans['Action'], label='Action', color='red')\n",
    "ax.bar(group_trans.index, group_trans['Adventure'], bottom=group_trans['Action'], label='Adventure', color='blue')\n",
    "ax.bar(group_trans.index, group_trans['Fighting'], bottom=group_trans['Action']+group_trans['Adventure'], label='Fighting', color='purple')\n",
    "ax.bar(group_trans.index, group_trans['Misc'], bottom=group_trans['Action']+group_trans['Adventure']+group_trans['Fighting'], label='Misc', color='grey')\n",
    "ax.bar(group_trans.index, group_trans['Platform'], bottom=group_trans['Action']+group_trans['Adventure']+group_trans['Fighting']+group_trans['Misc'], label='Platform', color='yellow')\n",
    "ax.bar(group_trans.index, group_trans['Puzzle'], bottom=group_trans['Action']+group_trans['Adventure']+group_trans['Fighting']+group_trans['Misc']+group_trans['Platform'], label='Puzzle', color='green')\n",
    "ax.bar(group_trans.index, group_trans['Racing'], bottom=group_trans['Action']+group_trans['Adventure']+group_trans['Fighting']+group_trans['Misc']+group_trans['Platform']+group_trans['Puzzle'], label='Racing', color='pink')\n",
    "ax.bar(group_trans.index, group_trans['Role-Playing'], bottom=group_trans['Action']+group_trans['Adventure']+group_trans['Fighting']+group_trans['Misc']+group_trans['Platform']+group_trans['Puzzle']+group_trans['Racing'], label='Role-Playing', color='red')\n",
    "ax.bar(group_trans.index, group_trans['Shooter'], bottom=group_trans['Action']+group_trans['Adventure']+group_trans['Fighting']+group_trans['Misc']+group_trans['Platform']+group_trans['Puzzle']+group_trans['Racing']+group_trans['Role-Playing'], label='Shooter', color='blue')\n",
    "ax.bar(group_trans.index, group_trans['Simulation'], bottom=group_trans['Action']+group_trans['Adventure']+group_trans['Fighting']+group_trans['Misc']+group_trans['Platform']+group_trans['Puzzle']+group_trans['Racing']+group_trans['Role-Playing']+group_trans['Shooter'], label='Simulation', color='purple')\n",
    "ax.bar(group_trans.index, group_trans['Sports'], bottom=group_trans['Action']+group_trans['Adventure']+group_trans['Fighting']+group_trans['Misc']+group_trans['Platform']+group_trans['Puzzle']+group_trans['Racing']+group_trans['Role-Playing']+group_trans['Shooter']+group_trans['Simulation'], label='Sports', color='grey')\n",
    "ax.bar(group_trans.index, group_trans['Strategy'], bottom=group_trans['Action']+group_trans['Adventure']+group_trans['Fighting']+group_trans['Misc']+group_trans['Platform']+group_trans['Puzzle']+group_trans['Racing']+group_trans['Role-Playing']+group_trans['Shooter']+group_trans['Simulation']+group_trans['Sports'], label='Strategy', color='yellow')\n",
    "\n",
    "\n",
    "plt.title('Mean Sales Video Games By Genre')\n",
    "plt.xlabel('Region Sales')\n",
    "plt.ylabel('Mean Sales')\n",
    "plt.legend(loc=1)\n",
    "plt.style.use('seaborn')\n",
    "plt.xticks(x+0.01, labels=group_trans.index)\n",
    "plt.show()"
   ]
  },
  {
   "cell_type": "markdown",
   "metadata": {
    "id": "FVYvYcRTI5w3"
   },
   "source": [
    "Jawab:\n",
    "bisa dilihat bahwa penjualan pada NA_sales paling besar\n",
    "dan Other_sales paling sedikit"
   ]
  },
  {
   "cell_type": "markdown",
   "metadata": {
    "id": "TlTJFZF2Iwf-"
   },
   "source": [
    "Expected Output:\n",
    "\n",
    "![alt text](https://drive.google.com/uc?id=1_yis-3aZsEbsk68tpoPHoNlFftaz2GrO)"
   ]
  }
 ],
 "metadata": {
  "colab": {
   "collapsed_sections": [],
   "name": "Tugas Hari 4 Pekan 3.ipynb",
   "provenance": []
  },
  "kernelspec": {
   "display_name": "Python 3",
   "language": "python",
   "name": "python3"
  },
  "language_info": {
   "codemirror_mode": {
    "name": "ipython",
    "version": 3
   },
   "file_extension": ".py",
   "mimetype": "text/x-python",
   "name": "python",
   "nbconvert_exporter": "python",
   "pygments_lexer": "ipython3",
   "version": "3.8.8"
  }
 },
 "nbformat": 4,
 "nbformat_minor": 1
}
